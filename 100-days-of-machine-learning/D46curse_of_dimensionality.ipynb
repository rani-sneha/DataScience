{
  "nbformat": 4,
  "nbformat_minor": 0,
  "metadata": {
    "colab": {
      "provenance": [],
      "authorship_tag": "ABX9TyPSSbfMoWjRNjRRTkjMmfd1",
      "include_colab_link": true
    },
    "kernelspec": {
      "name": "python3",
      "display_name": "Python 3"
    },
    "language_info": {
      "name": "python"
    }
  },
  "cells": [
    {
      "cell_type": "markdown",
      "metadata": {
        "id": "view-in-github",
        "colab_type": "text"
      },
      "source": [
        "<a href=\"https://colab.research.google.com/github/rani-sneha/DataScience/blob/main/100-days-of-machine-learning/D46curse_of_dimensionality.ipynb\" target=\"_parent\"><img src=\"https://colab.research.google.com/assets/colab-badge.svg\" alt=\"Open In Colab\"/></a>"
      ]
    },
    {
      "cell_type": "markdown",
      "source": [
        "Curse of dimensionality states ki jaise jaise tum feature add karte jaoge model ka performance badhega but after some point even after adding more features model ka performance ghat bhi sakta hai.\n",
        "\n",
        "1. Sparsity - distance between 2 points increases so we cannot say they are exactly neighbors.\n",
        "\n",
        "Problems:-\n",
        "\n",
        "1. Performance decreases\n",
        "2. Computatiion increases\n",
        "\n",
        "How to solve Curse of Dimentionality:\n",
        "1. Feaure Selection\n",
        "  \n",
        "\n",
        "    *   Forward Selection\n",
        "    *   Backward Elimination\n",
        "\n",
        "\n",
        "2. Feature extraction\n",
        "\n",
        "\n",
        "    *   PCA\n",
        "    *   LDA\n",
        "    *   TSNA"
      ],
      "metadata": {
        "id": "JCIUtr7POXnO"
      }
    },
    {
      "cell_type": "code",
      "source": [],
      "metadata": {
        "id": "SMcYwUFPQIey"
      },
      "execution_count": null,
      "outputs": []
    }
  ]
}